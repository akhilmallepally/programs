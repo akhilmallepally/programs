{
 "cells": [
  {
   "cell_type": "code",
   "execution_count": 24,
   "id": "unlimited-nursery",
   "metadata": {},
   "outputs": [
    {
     "name": "stdout",
     "output_type": "stream",
     "text": [
      "Enter number :10\n",
      "10 * 1 = 10\n",
      "10 * 2 = 20\n",
      "10 * 3 = 30\n",
      "10 * 4 = 40\n",
      "10 * 5 = 50\n",
      "10 * 6 = 60\n",
      "10 * 7 = 70\n",
      "10 * 8 = 80\n",
      "10 * 9 = 90\n",
      "10 * 10 = 100\n"
     ]
    }
   ],
   "source": [
    "#Write a function that inputs a number and prints the multiplication table of that number\n",
    "\n",
    "num = int(input(\"Enter number :\"))\n",
    "\n",
    "def mul(num):\n",
    "    mul = 1\n",
    "    for i in range(1,11):\n",
    "        mul = num * i\n",
    "        print(num, \"*\", i, \"=\", mul)\n",
    "mul(num)"
   ]
  },
  {
   "cell_type": "markdown",
   "id": "known-words",
   "metadata": {},
   "source": []
  },
  {
   "cell_type": "code",
   "execution_count": null,
   "id": "sweet-parliament",
   "metadata": {},
   "outputs": [],
   "source": [
    "def prodDigits(num):\n",
    "    product = 1\n",
    "    if num ==0:\n",
    "        return num\n",
    "    while(num!=0):\n",
    "        product *= (num%10)\n",
    "        num = num//10\n",
    "    return product\n",
    "num = int(input(\"enter the number: \"))\n",
    "print(prodDigits(num))"
   ]
  },
  {
   "cell_type": "code",
   "execution_count": null,
   "id": "sweet-marina",
   "metadata": {},
   "outputs": [],
   "source": [
    "def prodDigits(num):\n",
    "    product = 1\n",
    "    if num ==0:\n",
    "        return num\n",
    "    while(num!=0):\n",
    "        product *= (num%10)\n",
    "        num = num//10\n",
    "    return product\n",
    "num = int(input(\"enter the number: \"))\n",
    "print(prodDigits(num))"
   ]
  },
  {
   "cell_type": "code",
   "execution_count": null,
   "id": "subjective-collective",
   "metadata": {},
   "outputs": [],
   "source": []
  }
 ],
 "metadata": {
  "kernelspec": {
   "display_name": "Python 3",
   "language": "python",
   "name": "python3"
  },
  "language_info": {
   "codemirror_mode": {
    "name": "ipython",
    "version": 3
   },
   "file_extension": ".py",
   "mimetype": "text/x-python",
   "name": "python",
   "nbconvert_exporter": "python",
   "pygments_lexer": "ipython3",
   "version": "3.7.4"
  }
 },
 "nbformat": 4,
 "nbformat_minor": 5
}
