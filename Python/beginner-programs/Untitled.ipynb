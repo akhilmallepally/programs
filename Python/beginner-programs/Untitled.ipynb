{
 "cells": [
  {
   "cell_type": "code",
   "execution_count": 1,
   "id": "sunrise-registrar",
   "metadata": {},
   "outputs": [
    {
     "name": "stdout",
     "output_type": "stream",
     "text": [
      "10\n"
     ]
    }
   ],
   "source": [
    "#Finding the HCF/GCD using different methods\n",
    "#Method 1: Using loops\n",
    "def hcf(a,b):\n",
    "    if a<b:\n",
    "        small = a\n",
    "    else:\n",
    "        small = b\n",
    "    for i in range(1, small+1):\n",
    "        if((a%i == 0) and (b%i == 0)):\n",
    "            hcf = i\n",
    "    return hcf\n",
    "print(hcf(10,20))"
   ]
  },
  {
   "cell_type": "code",
   "execution_count": 2,
   "id": "moved-journalism",
   "metadata": {},
   "outputs": [
    {
     "name": "stdout",
     "output_type": "stream",
     "text": [
      "10\n"
     ]
    }
   ],
   "source": [
    "#Method 2 : Using recursion\n",
    "def hcf(a,b):\n",
    "    if b==0:\n",
    "        return a \n",
    "    else:\n",
    "        return hcf(b,a%b)\n",
    "print(hcf(10,20))"
   ]
  },
  {
   "cell_type": "code",
   "execution_count": 10,
   "id": "incredible-gauge",
   "metadata": {},
   "outputs": [
    {
     "name": "stdout",
     "output_type": "stream",
     "text": [
      "10\n"
     ]
    }
   ],
   "source": [
    "#Method 3 : Using math module\n",
    "import math\n",
    "def hcf(a,b):\n",
    "    return math.gcd(a,b)\n",
    "print(hcf(0,10))   "
   ]
  },
  {
   "cell_type": "code",
   "execution_count": null,
   "id": "joint-brisbane",
   "metadata": {},
   "outputs": [],
   "source": []
  }
 ],
 "metadata": {
  "kernelspec": {
   "display_name": "Python 3",
   "language": "python",
   "name": "python3"
  },
  "language_info": {
   "codemirror_mode": {
    "name": "ipython",
    "version": 3
   },
   "file_extension": ".py",
   "mimetype": "text/x-python",
   "name": "python",
   "nbconvert_exporter": "python",
   "pygments_lexer": "ipython3",
   "version": "3.7.4"
  }
 },
 "nbformat": 4,
 "nbformat_minor": 5
}
