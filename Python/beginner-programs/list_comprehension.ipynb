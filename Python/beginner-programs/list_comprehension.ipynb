{
 "cells": [
  {
   "cell_type": "code",
   "execution_count": 16,
   "id": "combined-judges",
   "metadata": {},
   "outputs": [
    {
     "data": {
      "text/plain": [
       "[1, 2, 3, 4, 5]"
      ]
     },
     "execution_count": 16,
     "metadata": {},
     "output_type": "execute_result"
    }
   ],
   "source": [
    "import time\n",
    "lst = [1,2,3,4,5]\n",
    "[x for x in lst]"
   ]
  },
  {
   "cell_type": "code",
   "execution_count": 4,
   "id": "civilian-portland",
   "metadata": {},
   "outputs": [
    {
     "data": {
      "text/plain": [
       "[1, 4, 9, 16, 25]"
      ]
     },
     "execution_count": 4,
     "metadata": {},
     "output_type": "execute_result"
    }
   ],
   "source": [
    "[x**2 for x in lst]"
   ]
  },
  {
   "cell_type": "code",
   "execution_count": 17,
   "id": "japanese-sucking",
   "metadata": {},
   "outputs": [
    {
     "name": "stdout",
     "output_type": "stream",
     "text": [
      "0.0\n"
     ]
    }
   ],
   "source": [
    "[x for x in lst if x>2 and x%2 ==0] # we can replace second 'and' with if"
   ]
  },
  {
   "cell_type": "code",
   "execution_count": 10,
   "id": "fossil-export",
   "metadata": {},
   "outputs": [
    {
     "data": {
      "text/plain": [
       "['<= 1', 2, 3, 4, 5]"
      ]
     },
     "execution_count": 10,
     "metadata": {},
     "output_type": "execute_result"
    }
   ],
   "source": [
    "[x if x>1 else '<= 1' for x in lst ]"
   ]
  },
  {
   "cell_type": "code",
   "execution_count": 14,
   "id": "acceptable-representative",
   "metadata": {},
   "outputs": [
    {
     "data": {
      "text/plain": [
       "[(1, 4), (1, 5), (1, 6), (2, 4), (2, 5), (2, 6), (3, 4), (3, 5), (3, 6)]"
      ]
     },
     "execution_count": 14,
     "metadata": {},
     "output_type": "execute_result"
    }
   ],
   "source": [
    "x = [1,2,3]\n",
    "y = [4,5,6]\n",
    "[(i,j) for i in x for j in y]"
   ]
  },
  {
   "cell_type": "code",
   "execution_count": 7,
   "id": "processed-tsunami",
   "metadata": {},
   "outputs": [
    {
     "name": "stdout",
     "output_type": "stream",
     "text": [
      "2\n",
      "2\n",
      "5\n"
     ]
    }
   ],
   "source": [
    "n = 20\n",
    "\n",
    "for i in range(2,n):\n",
    "    if n%i==0:\n",
    "        for j in range(2,i):\n",
    "            if i%j==0:\n",
    "                print(j)\n",
    "        "
   ]
  },
  {
   "cell_type": "code",
   "execution_count": 23,
   "id": "monetary-dublin",
   "metadata": {},
   "outputs": [
    {
     "name": "stdout",
     "output_type": "stream",
     "text": [
      "2\n",
      "2\n",
      "5\n",
      "2\n",
      "4\n",
      "5\n",
      "10\n",
      "5\n",
      "2\n",
      "5\n",
      "10\n",
      "25\n"
     ]
    }
   ],
   "source": [
    "m = 100\n",
    "for i in range(2,m):\n",
    "    if m%i==0:\n",
    "        for j in range(2,i):\n",
    "            if i%j==0:\n",
    "                print(j)    "
   ]
  },
  {
   "cell_type": "code",
   "execution_count": null,
   "id": "younger-pharmacy",
   "metadata": {},
   "outputs": [],
   "source": []
  }
 ],
 "metadata": {
  "kernelspec": {
   "display_name": "Python 3",
   "language": "python",
   "name": "python3"
  },
  "language_info": {
   "codemirror_mode": {
    "name": "ipython",
    "version": 3
   },
   "file_extension": ".py",
   "mimetype": "text/x-python",
   "name": "python",
   "nbconvert_exporter": "python",
   "pygments_lexer": "ipython3",
   "version": "3.7.4"
  }
 },
 "nbformat": 4,
 "nbformat_minor": 5
}
