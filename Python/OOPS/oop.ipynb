{
 "cells": [
  {
   "cell_type": "code",
   "execution_count": null,
   "id": "ongoing-coral",
   "metadata": {},
   "outputs": [],
   "source": [
    "###OOPS in Python"
   ]
  },
  {
   "cell_type": "code",
   "execution_count": 1,
   "id": "formal-pencil",
   "metadata": {},
   "outputs": [
    {
     "name": "stdout",
     "output_type": "stream",
     "text": [
      "<__main__.Employee object at 0x00000286589CE288>\n"
     ]
    }
   ],
   "source": [
    "class MyClass:\n",
    "    pass\n",
    "obj = MyClass()\n",
    "print(obj)"
   ]
  },
  {
   "cell_type": "code",
   "execution_count": 3,
   "id": "ceramic-device",
   "metadata": {},
   "outputs": [
    {
     "name": "stdout",
     "output_type": "stream",
     "text": [
      "1234\n"
     ]
    }
   ],
   "source": [
    "class Employee:\n",
    "    ID = None\n",
    "    salary = None\n",
    "    department = None\n",
    "    \n",
    "steve = Employee()\n",
    "\n",
    "#Assigning\n",
    "steve.ID = 1234\n",
    "steve.salary = 100000\n",
    "steve.department = \"technical\"\n",
    "\n",
    "print(steve.ID)\n",
    "print(steve.salary)\n",
    "print(steve.department)"
   ]
  },
  {
   "cell_type": "code",
   "execution_count": 5,
   "id": "independent-checklist",
   "metadata": {},
   "outputs": [
    {
     "name": "stdout",
     "output_type": "stream",
     "text": [
      "tech\n"
     ]
    }
   ],
   "source": [
    "class Employee:\n",
    "    ID = 1234\n",
    "    salary = 10000\n",
    "    dept = \"tech\"\n",
    "\n",
    "mike = Employee()\n",
    "print(mike.dept)"
   ]
  },
  {
   "cell_type": "code",
   "execution_count": 6,
   "id": "original-madrid",
   "metadata": {},
   "outputs": [
    {
     "name": "stdout",
     "output_type": "stream",
     "text": [
      "manager\n"
     ]
    }
   ],
   "source": [
    "#we can add properties outside the class for specific objects\n",
    "mike.title = \"manager\"\n",
    "print(mike.title)"
   ]
  },
  {
   "cell_type": "code",
   "execution_count": 21,
   "id": "urban-wright",
   "metadata": {},
   "outputs": [
    {
     "name": "stdout",
     "output_type": "stream",
     "text": [
      "1334\n",
      "None\n",
      "8333.333333333334\n"
     ]
    }
   ],
   "source": [
    "#using initializer\n",
    "class Employee:\n",
    "    #defining properties and assigning them none\n",
    "    def __init__(self, ID=None, salary=0, dept=None):\n",
    "        self.ID = ID\n",
    "        self.salary = salary\n",
    "        self.dept = dept\n",
    "    \n",
    "    def monthly_salary(self):\n",
    "        return self.salary/12\n",
    "        \n",
    "#creating an object of Employee class with default parameters\n",
    "\n",
    "mike = Employee(1334,100000,'tech')\n",
    "tina = Employee()\n",
    "print(mike.ID)\n",
    "print(tina.ID)\n",
    "print(mike.monthly_salary())"
   ]
  },
  {
   "cell_type": "code",
   "execution_count": 25,
   "id": "extreme-intent",
   "metadata": {},
   "outputs": [
    {
     "name": "stdout",
     "output_type": "stream",
     "text": [
      "NWMSU\n",
      "NWMSU\n",
      "Akhil\n",
      "I am static\n",
      "I am static\n"
     ]
    }
   ],
   "source": [
    "class Professor:\n",
    "    univ = \"NWMSU\"  #class variable\n",
    "    def __init__(self, name=None):   #instance method\n",
    "        self.name = name   #instance variable\n",
    "        \n",
    "    @classmethod    #decorator\n",
    "    def get_univ_name(cls): #defining class method\n",
    "        return cls.univ\n",
    "    \n",
    "    @staticmethod\n",
    "    def test():   #no need of any parametr like cls or self since a static method doesnot reference to any object or class\n",
    "        print(\"I am static\")\n",
    "    \n",
    "print(Professor.get_univ_name()) #getting from class method\n",
    "p1 = Professor(\"Akhil\")\n",
    "print(p1.univ)\n",
    "print(p1.name)\n",
    "\n",
    "Professor.test()\n",
    "p1.test()         #even for p1 object which is defined and declared, the output is still I am static"
   ]
  },
  {
   "cell_type": "code",
   "execution_count": 18,
   "id": "requested-missile",
   "metadata": {},
   "outputs": [
    {
     "name": "stdout",
     "output_type": "stream",
     "text": [
      "['Tim', 'Qin']\n",
      "['Tim', 'Qin']\n"
     ]
    }
   ],
   "source": [
    "class Professor:\n",
    "    univ = \"NWMSU\"\n",
    "    prof_names = []\n",
    "    def __init__(self, name):\n",
    "        self.name = name\n",
    "        self.prof_names.append(self.name)\n",
    "    \n",
    "p1 = Professor(\"Tim\")\n",
    "p2 = Professor(\"Qin\")\n",
    "\n",
    "print(p1.prof_names)\n",
    "print(p2.prof_names)"
   ]
  },
  {
   "cell_type": "code",
   "execution_count": 19,
   "id": "olympic-attachment",
   "metadata": {},
   "outputs": [
    {
     "ename": "NameError",
     "evalue": "name 'prof_names' is not defined",
     "output_type": "error",
     "traceback": [
      "\u001b[1;31m---------------------------------------------------------------------------\u001b[0m",
      "\u001b[1;31mNameError\u001b[0m                                 Traceback (most recent call last)",
      "\u001b[1;32m<ipython-input-19-3b332b1b91a5>\u001b[0m in \u001b[0;36m<module>\u001b[1;34m\u001b[0m\n\u001b[1;32m----> 1\u001b[1;33m \u001b[0mprint\u001b[0m\u001b[1;33m(\u001b[0m\u001b[0mprof_names\u001b[0m\u001b[1;33m)\u001b[0m\u001b[1;33m\u001b[0m\u001b[1;33m\u001b[0m\u001b[0m\n\u001b[0m",
      "\u001b[1;31mNameError\u001b[0m: name 'prof_names' is not defined"
     ]
    }
   ],
   "source": [
    "print(prof_names)  #why error?"
   ]
  },
  {
   "cell_type": "code",
   "execution_count": null,
   "id": "lightweight-reality",
   "metadata": {},
   "outputs": [],
   "source": [
    "# # Static methods do not know anything about the state of the class, i.e., they cannot modify class attributes.\n",
    "# The purpose of a static method is to use its parameters and produce a useful result.\n",
    "\n",
    "# Suppose that there is a class, BodyInfo, containing information about the physical attributes of a person.\n",
    "# We can make a static method for calculating the BMI of any given weight and height:"
   ]
  },
  {
   "cell_type": "code",
   "execution_count": 28,
   "id": "later-complement",
   "metadata": {},
   "outputs": [
    {
     "name": "stdout",
     "output_type": "stream",
     "text": [
      "21.604938271604937\n"
     ]
    }
   ],
   "source": [
    "class BodyInfo:\n",
    "    \n",
    "    @staticmethod\n",
    "    def cal_bmi():\n",
    "        return weight/(height**2)\n",
    "    \n",
    "weight = 70\n",
    "height = 1.8\n",
    "print(BodyInfo.cal_bmi())"
   ]
  },
  {
   "cell_type": "code",
   "execution_count": 31,
   "id": "latest-distributor",
   "metadata": {},
   "outputs": [
    {
     "name": "stdout",
     "output_type": "stream",
     "text": [
      "21.604938271604937\n"
     ]
    }
   ],
   "source": [
    "#we can also write like this\n",
    "\n",
    "class BodyInfo:\n",
    "    @staticmethod\n",
    "    def cal_bmi(w,h):\n",
    "        return w/(h**2)\n",
    "    \n",
    "w= 70\n",
    "h=1.8\n",
    "print(BodyInfo.cal_bmi(w,h))"
   ]
  },
  {
   "cell_type": "code",
   "execution_count": 41,
   "id": "coupled-honey",
   "metadata": {},
   "outputs": [
    {
     "name": "stdout",
     "output_type": "stream",
     "text": [
      "Dutch\n"
     ]
    },
    {
     "ename": "AttributeError",
     "evalue": "'Dog' object has no attribute '__breed'",
     "output_type": "error",
     "traceback": [
      "\u001b[1;31m---------------------------------------------------------------------------\u001b[0m",
      "\u001b[1;31mAttributeError\u001b[0m                            Traceback (most recent call last)",
      "\u001b[1;32m<ipython-input-41-6322560b2219>\u001b[0m in \u001b[0;36m<module>\u001b[1;34m\u001b[0m\n\u001b[0;32m      9\u001b[0m \u001b[0md1\u001b[0m \u001b[1;33m=\u001b[0m \u001b[0mDog\u001b[0m\u001b[1;33m(\u001b[0m\u001b[1;34m\"Dutch\"\u001b[0m\u001b[1;33m,\u001b[0m\u001b[1;34m\"German\"\u001b[0m\u001b[1;33m)\u001b[0m\u001b[1;33m\u001b[0m\u001b[1;33m\u001b[0m\u001b[0m\n\u001b[0;32m     10\u001b[0m \u001b[0mprint\u001b[0m\u001b[1;33m(\u001b[0m\u001b[0md1\u001b[0m\u001b[1;33m.\u001b[0m\u001b[0mname\u001b[0m\u001b[1;33m)\u001b[0m\u001b[1;33m\u001b[0m\u001b[1;33m\u001b[0m\u001b[0m\n\u001b[1;32m---> 11\u001b[1;33m \u001b[0mprint\u001b[0m\u001b[1;33m(\u001b[0m\u001b[0md1\u001b[0m\u001b[1;33m.\u001b[0m\u001b[0m__breed\u001b[0m\u001b[1;33m)\u001b[0m                       \u001b[1;31m#A provate attribute can't be accessed outside the class\u001b[0m\u001b[1;33m\u001b[0m\u001b[1;33m\u001b[0m\u001b[0m\n\u001b[0m",
      "\u001b[1;31mAttributeError\u001b[0m: 'Dog' object has no attribute '__breed'"
     ]
    }
   ],
   "source": [
    "class Dog:\n",
    "    \n",
    "    def __init__(self, name, breed):\n",
    "        self.name = name                #public attribute. By default, we have attributes and methods public in python\n",
    "        self.__breed = breed            #private attribute, we use __ to define a private attr\n",
    "        \n",
    "    def get_breed(self):\n",
    "        return self.__breed\n",
    "    \n",
    "    def __get_name(self):               #private method\n",
    "        return self.name\n",
    "    \n",
    "    \n",
    "d1 = Dog(\"Dutch\",\"German\")\n",
    "print(d1.name)\n",
    "print(d1.__breed)                       #A provate attribute can't be accessed outside the class\n"
   ]
  },
  {
   "cell_type": "code",
   "execution_count": 40,
   "id": "governing-liverpool",
   "metadata": {},
   "outputs": [
    {
     "name": "stdout",
     "output_type": "stream",
     "text": [
      "German\n"
     ]
    }
   ],
   "source": [
    "print(d1.get_breed())                   # A public method stores the info such that it returns a private variable"
   ]
  },
  {
   "cell_type": "code",
   "execution_count": 42,
   "id": "welsh-thickness",
   "metadata": {},
   "outputs": [
    {
     "ename": "AttributeError",
     "evalue": "'Dog' object has no attribute '__get_name'",
     "output_type": "error",
     "traceback": [
      "\u001b[1;31m---------------------------------------------------------------------------\u001b[0m",
      "\u001b[1;31mAttributeError\u001b[0m                            Traceback (most recent call last)",
      "\u001b[1;32m<ipython-input-42-2df9ada77a66>\u001b[0m in \u001b[0;36m<module>\u001b[1;34m\u001b[0m\n\u001b[1;32m----> 1\u001b[1;33m \u001b[0mprint\u001b[0m\u001b[1;33m(\u001b[0m\u001b[0md1\u001b[0m\u001b[1;33m.\u001b[0m\u001b[0m__get_name\u001b[0m\u001b[1;33m(\u001b[0m\u001b[1;33m)\u001b[0m\u001b[1;33m)\u001b[0m\u001b[1;33m\u001b[0m\u001b[1;33m\u001b[0m\u001b[0m\n\u001b[0m",
      "\u001b[1;31mAttributeError\u001b[0m: 'Dog' object has no attribute '__get_name'"
     ]
    }
   ],
   "source": [
    "print(d1.__get_name())                  #a private method can't be accessed outside the class"
   ]
  },
  {
   "cell_type": "code",
   "execution_count": 47,
   "id": "stupid-postcard",
   "metadata": {},
   "outputs": [
    {
     "name": "stdout",
     "output_type": "stream",
     "text": [
      "German\n"
     ]
    }
   ],
   "source": [
    "print(d1._Dog__breed)  #private variable can be accessed by having _<class name> before it  #Try the same for private method"
   ]
  },
  {
   "cell_type": "code",
   "execution_count": 68,
   "id": "hearing-familiar",
   "metadata": {},
   "outputs": [
    {
     "ename": "AttributeError",
     "evalue": "'Cat' object has no attribute 'sound'",
     "output_type": "error",
     "traceback": [
      "\u001b[1;31m---------------------------------------------------------------------------\u001b[0m",
      "\u001b[1;31mAttributeError\u001b[0m                            Traceback (most recent call last)",
      "\u001b[1;32m<ipython-input-68-399c4091fa85>\u001b[0m in \u001b[0;36m<module>\u001b[1;34m\u001b[0m\n\u001b[0;32m      5\u001b[0m \u001b[1;33m\u001b[0m\u001b[0m\n\u001b[0;32m      6\u001b[0m \u001b[0ma\u001b[0m \u001b[1;33m=\u001b[0m \u001b[0mCat\u001b[0m\u001b[1;33m(\u001b[0m\u001b[1;34m'hello'\u001b[0m\u001b[1;33m,\u001b[0m\u001b[1;34m'jello'\u001b[0m\u001b[1;33m)\u001b[0m\u001b[1;33m\u001b[0m\u001b[1;33m\u001b[0m\u001b[0m\n\u001b[1;32m----> 7\u001b[1;33m \u001b[0mprint\u001b[0m\u001b[1;33m(\u001b[0m\u001b[0ma\u001b[0m\u001b[1;33m.\u001b[0m\u001b[0msound\u001b[0m\u001b[1;33m)\u001b[0m\u001b[1;33m\u001b[0m\u001b[1;33m\u001b[0m\u001b[0m\n\u001b[0m",
      "\u001b[1;31mAttributeError\u001b[0m: 'Cat' object has no attribute 'sound'"
     ]
    }
   ],
   "source": [
    "class Cat:\n",
    "    def __init__(self, name, sound):\n",
    "        self.name = name\n",
    "        self.test = sound\n",
    "        \n",
    "a = Cat('hello','jello')\n",
    "print(a.sound)"
   ]
  },
  {
   "cell_type": "code",
   "execution_count": null,
   "id": "negative-accordance",
   "metadata": {},
   "outputs": [],
   "source": []
  },
  {
   "cell_type": "code",
   "execution_count": 71,
   "id": "canadian-money",
   "metadata": {},
   "outputs": [
    {
     "name": "stdout",
     "output_type": "stream",
     "text": [
      "35\n"
     ]
    }
   ],
   "source": [
    "class Point:\n",
    "    \n",
    "    def __init__(self, x , y , z):\n",
    "        self.x = x\n",
    "        self.y = y\n",
    "        self.z = z\n",
    "    \n",
    "    def sqSum(self):\n",
    "        return (self.x**2)+(self.y**2)+(self.z**2)\n",
    "    \n",
    "s1 = Point(1,3,5)\n",
    "print(s1.sqSum())\n",
    "        "
   ]
  },
  {
   "cell_type": "code",
   "execution_count": 76,
   "id": "healthy-visiting",
   "metadata": {},
   "outputs": [
    {
     "name": "stdout",
     "output_type": "stream",
     "text": [
      "180\n",
      "60.0\n"
     ]
    }
   ],
   "source": [
    "class Student:\n",
    "    \n",
    "    def __init__(self, name, phy, chem, bio):\n",
    "        self.name = name\n",
    "        self.phy = phy\n",
    "        self.chem = chem\n",
    "        self.bio = bio\n",
    "        \n",
    "    def totalObtained(self):\n",
    "        return self.phy + self.chem + self.bio\n",
    "    \n",
    "    def percentage(self):\n",
    "        return (self.totalObtained()/300)*100\n",
    "    \n",
    "s1 = Student(\"Raj\", 60,60,60)\n",
    "\n",
    "print(s1.totalObtained())\n",
    "print(s1.percentage())"
   ]
  },
  {
   "cell_type": "code",
   "execution_count": 84,
   "id": "regulation-oxford",
   "metadata": {},
   "outputs": [
    {
     "name": "stdout",
     "output_type": "stream",
     "text": [
      "4\n",
      "-2\n",
      "3\n",
      "0.3333333333333333\n"
     ]
    }
   ],
   "source": [
    "class Calculator:\n",
    "    \n",
    "    def __init__(self, num1, num2):\n",
    "        self.num1 = num1\n",
    "        self.num2 = num2\n",
    "        \n",
    "    def add(self):\n",
    "        return self.num1 + self.num2\n",
    "    \n",
    "    def subtract(self):\n",
    "        return self.num1 - self.num2\n",
    "    \n",
    "    def multiply(self):\n",
    "        return self.num1* self.num2\n",
    "    \n",
    "    def div(self):\n",
    "        return self.num1/self.num2\n",
    "\n",
    "a = Calculator(1,3)\n",
    "print(a.add())\n",
    "print(a.subtract())\n",
    "print(a.multiply())\n",
    "print(a.div())"
   ]
  },
  {
   "cell_type": "code",
   "execution_count": 87,
   "id": "graduate-opposition",
   "metadata": {},
   "outputs": [
    {
     "name": "stdout",
     "output_type": "stream",
     "text": [
      "6\n"
     ]
    }
   ],
   "source": [
    "#Encapsulation\n",
    "class Rectangle:\n",
    "    def __init__(self, length, width):\n",
    "        self.__length = length\n",
    "        self.__width = width\n",
    "        \n",
    "    def area(self):\n",
    "        area = self.__length * self.__width\n",
    "        return area\n",
    "    def perimeter(self):\n",
    "        perimeter = 2*(self.__length + self.__width)\n",
    "        return perimeter\n",
    "    \n",
    "rec1 = Rectangle(1,2)\n",
    "print(rec1.perimeter())"
   ]
  },
  {
   "cell_type": "code",
   "execution_count": 100,
   "id": "killing-rescue",
   "metadata": {},
   "outputs": [
    {
     "name": "stdout",
     "output_type": "stream",
     "text": [
      "Akhil\n",
      "Raj\n"
     ]
    }
   ],
   "source": [
    "class Student:\n",
    "    def __init__(self, name, rollNumber):\n",
    "        self.__name = name\n",
    "        self.rollNumber = rollNumber\n",
    "    \n",
    "    def getName(self):\n",
    "        return self.__name\n",
    "    def setName(self, name):\n",
    "        self.__name = name\n",
    "    \n",
    "    def getRollNumber(self):\n",
    "        return self.__rollNumber\n",
    "    def setRollNumber(self, rollNumber):\n",
    "        self.__rollNumber = rollNumber\n",
    "        \n",
    "obj1 = Student(\"Akhil\", 1234)\n",
    "print(obj1.getName())\n",
    "obj1.setName(\"Raj\")             #since it's a function with a parameter name, we give like this ##never do obj1.setName = \"raj\"\n",
    "print(obj1.getName())"
   ]
  },
  {
   "cell_type": "code",
   "execution_count": 101,
   "id": "dedicated-version",
   "metadata": {},
   "outputs": [
    {
     "name": "stdout",
     "output_type": "stream",
     "text": [
      "ID = 3789\n",
      "GPA 3.5\n",
      "Department: Computer Science\n",
      "ID = 3790\n",
      "GPA 3.7\n"
     ]
    },
    {
     "ename": "AttributeError",
     "evalue": "'Student' object has no attribute 'department'",
     "output_type": "error",
     "traceback": [
      "\u001b[1;31m---------------------------------------------------------------------------\u001b[0m",
      "\u001b[1;31mAttributeError\u001b[0m                            Traceback (most recent call last)",
      "\u001b[1;32m<ipython-input-101-1a0fffaf8be9>\u001b[0m in \u001b[0;36m<module>\u001b[1;34m\u001b[0m\n\u001b[0;32m     29\u001b[0m \u001b[0mprint\u001b[0m\u001b[1;33m(\u001b[0m\u001b[1;34m\"ID =\"\u001b[0m\u001b[1;33m,\u001b[0m \u001b[0mJohn\u001b[0m\u001b[1;33m.\u001b[0m\u001b[0mID\u001b[0m\u001b[1;33m)\u001b[0m\u001b[1;33m\u001b[0m\u001b[1;33m\u001b[0m\u001b[0m\n\u001b[0;32m     30\u001b[0m \u001b[0mprint\u001b[0m\u001b[1;33m(\u001b[0m\u001b[1;34m\"GPA\"\u001b[0m\u001b[1;33m,\u001b[0m \u001b[0mJohn\u001b[0m\u001b[1;33m.\u001b[0m\u001b[0mGPA\u001b[0m\u001b[1;33m)\u001b[0m\u001b[1;33m\u001b[0m\u001b[1;33m\u001b[0m\u001b[0m\n\u001b[1;32m---> 31\u001b[1;33m \u001b[0mprint\u001b[0m\u001b[1;33m(\u001b[0m\u001b[1;34m\"Department:\"\u001b[0m\u001b[1;33m,\u001b[0m \u001b[0mJohn\u001b[0m\u001b[1;33m.\u001b[0m\u001b[0mdepartment\u001b[0m\u001b[1;33m)\u001b[0m\u001b[1;33m\u001b[0m\u001b[1;33m\u001b[0m\u001b[0m\n\u001b[0m",
      "\u001b[1;31mAttributeError\u001b[0m: 'Student' object has no attribute 'department'"
     ]
    }
   ],
   "source": [
    "class Student:\n",
    "    # defining the properties   \n",
    "    ID = None\n",
    "    GPA = None\n",
    "\n",
    "# creating an object of the Student class\n",
    "Peter = Student()\n",
    "\n",
    "# assigning values to properties of Peter\n",
    "Peter.ID = 3789\n",
    "Peter.GPA = 3.5\n",
    "\n",
    "# create a new attribute for Peter\n",
    "Peter.department = \"Computer Science\"\n",
    "\n",
    "\n",
    "# Create another Student object\n",
    "John = Student()\n",
    "John.ID = 3790\n",
    "John.GPA = 3.7\n",
    "\n",
    "\n",
    "# Printing properties of Peter\n",
    "print(\"ID =\", Peter.ID)\n",
    "print(\"GPA\", Peter.GPA)\n",
    "print(\"Department:\", Peter.department)\n",
    "\n",
    "# Printing properties of John\n",
    "print(\"ID =\", John.ID)\n",
    "print(\"GPA\", John.GPA)\n",
    "print(\"Department:\", John.department)\n"
   ]
  },
  {
   "cell_type": "code",
   "execution_count": 102,
   "id": "favorite-integer",
   "metadata": {},
   "outputs": [
    {
     "name": "stdout",
     "output_type": "stream",
     "text": [
      "Harry Potter and the Chamber of Secrets\n"
     ]
    }
   ],
   "source": [
    "class Book:\n",
    "    def __init__(self, ID, title):\n",
    "        self.ID = ID\n",
    "        self.__title = title\n",
    "\n",
    "\n",
    "harry_potter = Book(3789, 'Harry Potter and the Chamber of Secrets')\n",
    "print(harry_potter._Book__title)"
   ]
  },
  {
   "cell_type": "code",
   "execution_count": 105,
   "id": "immune-exception",
   "metadata": {},
   "outputs": [
    {
     "name": "stdout",
     "output_type": "stream",
     "text": [
      "12.56\n"
     ]
    }
   ],
   "source": [
    "class Circle:\n",
    "    def __init__(self, radius):\n",
    "        self.radius = radius\n",
    "    def print_area(self):\n",
    "        area = (3.14*(self.radius**2))\n",
    "        return area\n",
    "obj1 = Circle(2)\n",
    "print(obj1.print_area())"
   ]
  },
  {
   "cell_type": "code",
   "execution_count": 31,
   "id": "oriental-administrator",
   "metadata": {},
   "outputs": [
    {
     "name": "stdout",
     "output_type": "stream",
     "text": [
      "initial balance : 10000\n",
      "Balance after deposit : 10100\n",
      "Balance after withdrawal : 9600\n",
      "interest amount : 988.8\n"
     ]
    }
   ],
   "source": [
    "#Inheritance\n",
    "class Account:\n",
    "    def __init__(self,title = None, balance=0):\n",
    "        self.title = title\n",
    "        self.balance = balance\n",
    "        \n",
    "        \n",
    "    def getBalance(self):\n",
    "        return self.balance\n",
    "    def deposit(self, amount):\n",
    "        self.amount = amount\n",
    "        self.balance = self.balance + self.amount\n",
    "       \n",
    "    def withdrawal(self, amount):\n",
    "        self.amount = amount\n",
    "        self.balance = self.balance - self.amount\n",
    "        \n",
    "class SavingsAccount(Account):\n",
    "    def __init__(self, title = None, balance = 0, interestRate=0):\n",
    "        super().__init__(title, balance)\n",
    "        self.interestRate = interestRate\n",
    "        \n",
    "    def interestAmount(self):\n",
    "        interest_amount = (super().getBalance()   * self.interestRate)  /100\n",
    "        return interest_amount\n",
    "\n",
    "        \n",
    "obj1 = SavingsAccount(\"Akhil\", 10000, 10.3)\n",
    "print(f'initial balance : {obj1.getBalance()}')\n",
    "obj1.deposit(100)\n",
    "print(f'Balance after deposit : {obj1.getBalance()}')\n",
    "obj1.withdrawal(500)\n",
    "print(f'Balance after withdrawal : {obj1.getBalance()}')\n",
    "print(f'interest amount : {obj1.interestAmount()}')"
   ]
  },
  {
   "cell_type": "code",
   "execution_count": 27,
   "id": "heavy-harvard",
   "metadata": {},
   "outputs": [
    {
     "data": {
      "text/plain": [
       "'Shape, Circle'"
      ]
     },
     "execution_count": 27,
     "metadata": {},
     "output_type": "execute_result"
    }
   ],
   "source": [
    "#Polymorphism\n",
    "#Overriding a method using a Super function\n",
    "\n",
    "class Shape:\n",
    "    sname = 'Shape'\n",
    "    def getName(self):\n",
    "        return self.sname\n",
    "\n",
    "class XShape(Shape):\n",
    "    # initializer\n",
    "    def __init__(self, name):\n",
    "        self.name = name\n",
    "    def getName(self):  # overriden method\n",
    "        return (super().getName() + \", \"+ self.name)\n",
    "    \n",
    "circle = XShape(\"Circle\")\n",
    "circle.getName()\n"
   ]
  },
  {
   "cell_type": "code",
   "execution_count": 49,
   "id": "electrical-profession",
   "metadata": {},
   "outputs": [
    {
     "name": "stdout",
     "output_type": "stream",
     "text": [
      "name : Bhow\n",
      "sound : here\n",
      "family : Ding\n",
      "\n",
      "name : nii\n",
      "sound : there\n",
      "color : hell\n"
     ]
    }
   ],
   "source": [
    "#Polymorphism\n",
    "class Animal:\n",
    "    def __init__(self, name, sound):\n",
    "        self.name = name\n",
    "        self.sound = sound\n",
    "    def Animal_details(self):\n",
    "        print(f'name : {self.name}')\n",
    "        print(f'sound : {self.sound}')\n",
    "        \n",
    "#child class\n",
    "class Dog(Animal):\n",
    "    def __init__(self, family, name, sound):\n",
    "        self.family = family\n",
    "        super().__init__(name, sound)\n",
    "    def Animal_details(self):\n",
    "        super().Animal_details()\n",
    "        print(f'family : {self.family}')\n",
    "    \n",
    "class Sheep(Animal):\n",
    "    def __init__(self, color, name, sound):\n",
    "        self.color = color\n",
    "        super().__init__(name, sound)\n",
    "    def Animal_details(self):\n",
    "        super().Animal_details()\n",
    "        print(f'color : {self.color}')\n",
    "\n",
    "obj1 = Dog(\"Ding\", \"Bhow\", \"here\")\n",
    "obj2 = Sheep(\"hell\",\"nii\", \"there\")\n",
    "obj1.Animal_details()\n",
    "print(\"\")\n",
    "obj2.Animal_details()"
   ]
  },
  {
   "cell_type": "code",
   "execution_count": 68,
   "id": "crazy-appeal",
   "metadata": {},
   "outputs": [
    {
     "name": "stdout",
     "output_type": "stream",
     "text": [
      "Car has started\n",
      "Model: Toyota\n",
      "Color: Grey\n",
      "Car has stopped\n"
     ]
    }
   ],
   "source": [
    "#composition  \n",
    "class Car:\n",
    "    def __init__(self, model, color):\n",
    "        self.model = model\n",
    "        self.color = color\n",
    "    def printDetails(self):\n",
    "        print(\"Model:\", self.model)\n",
    "        print(\"Color:\", self.color)\n",
    "\n",
    "class SedanEngine:    \n",
    "    def start(self):\n",
    "        print(\"Car has started\")\n",
    "    def stop(self):\n",
    "        print(\"Car has stopped\")\n",
    "    \n",
    "class Sedan(Car):\n",
    "    def __init__(self, model, color):\n",
    "        super().__init__(model, color)\n",
    "        self.engine = SedanEngine()\n",
    "        \n",
    "    def setStart(self):\n",
    "        self.engine.start()\n",
    "    def setStop(self):\n",
    "        self.engine.stop()\n",
    "    \n",
    "car1 = Sedan(\"Toyota\",\"Grey\")\n",
    "car1.setStart()\n",
    "car1.printDetails()\n",
    "car1.setStop()"
   ]
  },
  {
   "cell_type": "code",
   "execution_count": 70,
   "id": "extreme-greece",
   "metadata": {},
   "outputs": [
    {
     "name": "stdout",
     "output_type": "stream",
     "text": [
      "Total players in mySchool: 4\n"
     ]
    }
   ],
   "source": [
    "#aggregation\n",
    "class Player:\n",
    "    def __init__(self, ID, name, teamName):\n",
    "        self.ID = ID\n",
    "        self.name = name\n",
    "        self.teamName = teamName\n",
    "        \n",
    "class Team(Player):\n",
    "    def __init__(self, name):\n",
    "        self.name = name\n",
    "        self.players = []\n",
    "    def addPlayer(self, player):\n",
    "        self.players.append(player)\n",
    "    def getNumberOfPlayers(self):\n",
    "        return len(self.players)\n",
    "class School(Team):\n",
    "    def __init__(self, name):\n",
    "        self.name = name\n",
    "        self.teams = []\n",
    "        \n",
    "    def addTeam(self, team):\n",
    "        self.teams.append(team)\n",
    "        \n",
    "    def getTotalPlayersInSchool(self):\n",
    "        count = 0\n",
    "        for i in self.teams:\n",
    "            count = count + i.getNumberOfPlayers()\n",
    "        return count\n",
    "p1 = Player(1, \"Harris\", \"Red\")\n",
    "p2 = Player(2, \"Carol\", \"Red\")\n",
    "p3 = Player(1, \"Johnny\", \"Blue\")\n",
    "p4 = Player(2, \"Sarah\", \"Blue\")\n",
    "\n",
    "red_team = Team(\"Red Team\")\n",
    "red_team.addPlayer(p1)\n",
    "red_team.addPlayer(p2)\n",
    "\n",
    "blue_team = Team(\"Blue Team\")\n",
    "blue_team.addPlayer(p2)\n",
    "blue_team.addPlayer(p3)\n",
    "\n",
    "mySchool = School(\"My School\")\n",
    "mySchool.addTeam(red_team)\n",
    "mySchool.addTeam(blue_team)\n",
    "\n",
    "print(\"Total players in mySchool:\", mySchool.getTotalPlayersInSchool())\n",
    "        \n",
    "    \n",
    "        "
   ]
  },
  {
   "cell_type": "code",
   "execution_count": null,
   "id": "dress-hudson",
   "metadata": {},
   "outputs": [],
   "source": []
  }
 ],
 "metadata": {
  "kernelspec": {
   "display_name": "Python 3",
   "language": "python",
   "name": "python3"
  },
  "language_info": {
   "codemirror_mode": {
    "name": "ipython",
    "version": 3
   },
   "file_extension": ".py",
   "mimetype": "text/x-python",
   "name": "python",
   "nbconvert_exporter": "python",
   "pygments_lexer": "ipython3",
   "version": "3.7.4"
  }
 },
 "nbformat": 4,
 "nbformat_minor": 5
}
